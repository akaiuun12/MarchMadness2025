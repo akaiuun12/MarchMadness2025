{
 "cells": [
  {
   "cell_type": "markdown",
   "id": "6f9f92b0",
   "metadata": {
    "papermill": {
     "duration": 0.005594,
     "end_time": "2025-03-17T09:31:32.710491",
     "exception": false,
     "start_time": "2025-03-17T09:31:32.704897",
     "status": "completed"
    },
    "tags": []
   },
   "source": [
    "# 2025 March Madness Kaggle Competition"
   ]
  },
  {
   "cell_type": "markdown",
   "id": "c3e11c79",
   "metadata": {
    "papermill": {
     "duration": 0.004457,
     "end_time": "2025-03-17T09:31:32.720034",
     "exception": false,
     "start_time": "2025-03-17T09:31:32.715577",
     "status": "completed"
    },
    "tags": []
   },
   "source": [
    "- Goal of the Competition\n",
    "\n",
    "이 컴피티션의 목표는 과거 데이터를 바탕으로 NCAA 디비전 1 대학농구 토너먼트, 혹은 \"3월의 광란\"의 결과를 예측하는 것이다.\n",
    "\n",
    "- Submission Strategy\n",
    "\n",
    "정규 시즌 결과를 바탕으로 팀별 승률, 평균 점수차(마진), 평균 득점 등을 구한 뒤 이를 바틍으로 토너먼트 결과를 예측한다. 학습 데이터는 2024년까지의 토너먼트 결과를 사용하기로 한다.\n",
    "\n",
    "예측 방법으로는 XGBoost 모형을 사용하여 각 특성을 바탕으로 마진을 구하는 모형을 생성한 뒤, 예측값(마진)을 승률로 변환하는 방식을 사용할 것이다."
   ]
  },
  {
   "cell_type": "markdown",
   "id": "e04aa812",
   "metadata": {
    "papermill": {
     "duration": 0.004833,
     "end_time": "2025-03-17T09:31:32.729682",
     "exception": false,
     "start_time": "2025-03-17T09:31:32.724849",
     "status": "completed"
    },
    "tags": []
   },
   "source": [
    "## 1. Import Python packages"
   ]
  },
  {
   "cell_type": "code",
   "execution_count": 1,
   "id": "5daa14e5",
   "metadata": {
    "execution": {
     "iopub.execute_input": "2025-03-17T09:31:32.741227Z",
     "iopub.status.busy": "2025-03-17T09:31:32.740848Z",
     "iopub.status.idle": "2025-03-17T09:31:32.746100Z",
     "shell.execute_reply": "2025-03-17T09:31:32.745128Z"
    },
    "papermill": {
     "duration": 0.013283,
     "end_time": "2025-03-17T09:31:32.748088",
     "exception": false,
     "start_time": "2025-03-17T09:31:32.734805",
     "status": "completed"
    },
    "tags": []
   },
   "outputs": [],
   "source": [
    "# import numpy as np\n",
    "# import pandas as pd"
   ]
  },
  {
   "cell_type": "markdown",
   "id": "cee9f783",
   "metadata": {
    "papermill": {
     "duration": 0.005015,
     "end_time": "2025-03-17T09:31:32.758087",
     "exception": false,
     "start_time": "2025-03-17T09:31:32.753072",
     "status": "completed"
    },
    "tags": []
   },
   "source": [
    "## 2. Explore the Data"
   ]
  },
  {
   "cell_type": "code",
   "execution_count": 2,
   "id": "46127f47",
   "metadata": {
    "execution": {
     "iopub.execute_input": "2025-03-17T09:31:32.769882Z",
     "iopub.status.busy": "2025-03-17T09:31:32.769540Z",
     "iopub.status.idle": "2025-03-17T09:31:32.773881Z",
     "shell.execute_reply": "2025-03-17T09:31:32.772667Z"
    },
    "papermill": {
     "duration": 0.012902,
     "end_time": "2025-03-17T09:31:32.776388",
     "exception": false,
     "start_time": "2025-03-17T09:31:32.763486",
     "status": "completed"
    },
    "tags": []
   },
   "outputs": [],
   "source": [
    "# # Regular Season Results\n",
    "# regular_season_results = pd.read_csv('/kaggle/input/march-machine-learning-mania-2025/MRegularSeasonCompactResults.csv')\n",
    "# regular_season_results['margin'] = regular_season_results['WScore'] - regular_season_results['LScore']\n",
    "\n",
    "# rs_detailed = pd.read_csv('/kaggle/input/march-machine-learning-mania-2025/MRegularSeasonDetailedResults.csv')\n",
    "# df_rs_games = pd.merge(left=regular_season_results, right=rs_detailed)\n",
    "\n",
    "# df_rs_games"
   ]
  },
  {
   "cell_type": "markdown",
   "id": "e3f27ef5",
   "metadata": {
    "papermill": {
     "duration": 0.004514,
     "end_time": "2025-03-17T09:31:32.785835",
     "exception": false,
     "start_time": "2025-03-17T09:31:32.781321",
     "status": "completed"
    },
    "tags": []
   },
   "source": [
    "## 3. Data Preprocessing"
   ]
  },
  {
   "cell_type": "markdown",
   "id": "9027c017",
   "metadata": {
    "papermill": {
     "duration": 0.004766,
     "end_time": "2025-03-17T09:31:32.795333",
     "exception": false,
     "start_time": "2025-03-17T09:31:32.790567",
     "status": "completed"
    },
    "tags": []
   },
   "source": [
    "### 3-1. Margin of Each Game by Team"
   ]
  },
  {
   "cell_type": "code",
   "execution_count": 3,
   "id": "e9d51903",
   "metadata": {
    "execution": {
     "iopub.execute_input": "2025-03-17T09:31:32.807851Z",
     "iopub.status.busy": "2025-03-17T09:31:32.807518Z",
     "iopub.status.idle": "2025-03-17T09:31:32.812314Z",
     "shell.execute_reply": "2025-03-17T09:31:32.811026Z"
    },
    "papermill": {
     "duration": 0.012372,
     "end_time": "2025-03-17T09:31:32.814039",
     "exception": false,
     "start_time": "2025-03-17T09:31:32.801667",
     "status": "completed"
    },
    "tags": []
   },
   "outputs": [],
   "source": [
    "# W_columns = {'WTeamID': 'TeamID', 'WScore': 'Score', 'WLoc':'Loc', \n",
    "#              'WFGM': 'FGM', 'WFGA': 'FGA', 'WFGM3': 'FGM3', 'WFGA3': 'FGA3', 'WFTM': 'FTM', 'WFTA': 'FTA',\n",
    "#              'WOR': 'OR', 'WDR': 'DR', 'WAst': 'Ast', 'WTO': 'TO', 'WStl': 'Stl', 'WBlk': 'Blk', 'WPF': 'PF'}\n",
    "\n",
    "# L_columns = {'LTeamID': 'TeamID', 'LScore': 'Score', 'WLoc':'Loc',\n",
    "#              'LFGM': 'FGM', 'LFGA': 'FGA', 'LFGM3': 'FGM3', 'LFGA3': 'FGA3', 'LFTM': 'FTM', 'LFTA': 'FTA',\n",
    "#              'LOR': 'OR', 'LDR': 'DR', 'LAst': 'Ast', 'LTO': 'TO', 'LStl': 'Stl', 'LBlk': 'Blk', 'LPF': 'PF'}\n",
    "\n",
    "# W_results = df_rs_games[['Season', 'DayNum', 'WTeamID', 'WScore', 'WLoc', 'margin', 'WFGM', 'WFGA', 'WFGM3', 'WFGA3', 'WFTM', 'WFTA',\n",
    "#      'WOR', 'WDR', 'WAst', 'WTO', 'WStl', 'WBlk', 'WPF']] \\\n",
    "#     .rename(columns=W_columns, inplace=False)\n",
    "# W_results['Result'] = 1\n",
    "\n",
    "# L_results = df_rs_games[['Season', 'DayNum', 'LTeamID', 'LScore', 'WLoc', 'margin', 'LFGM', 'LFGA', 'LFGM3', 'LFGA3', 'LFTM', 'LFTA',\n",
    "#      'LOR', 'LDR', 'LAst', 'LTO', 'LStl', 'LBlk', 'LPF']] \\\n",
    "#     .rename(columns=L_columns, inplace=False)\n",
    "\n",
    "# # change the sign of the margin\n",
    "# L_results['margin'] = - L_results['margin']\n",
    "# L_results['Result'] = 0\n",
    "\n",
    "# regular_season_results_flatten = pd.concat([W_results, L_results], axis=0)\n",
    "# regular_season_results_flatten.drop('Loc', axis=1, inplace=True)\n",
    "\n",
    "# regular_season_results_flatten"
   ]
  },
  {
   "cell_type": "markdown",
   "id": "0a11ab83",
   "metadata": {
    "papermill": {
     "duration": 0.004629,
     "end_time": "2025-03-17T09:31:32.823530",
     "exception": false,
     "start_time": "2025-03-17T09:31:32.818901",
     "status": "completed"
    },
    "tags": []
   },
   "source": [
    "### 3-2. Margin of Each Team by Season"
   ]
  },
  {
   "cell_type": "code",
   "execution_count": 4,
   "id": "cb838e97",
   "metadata": {
    "execution": {
     "iopub.execute_input": "2025-03-17T09:31:32.835041Z",
     "iopub.status.busy": "2025-03-17T09:31:32.834693Z",
     "iopub.status.idle": "2025-03-17T09:31:32.839313Z",
     "shell.execute_reply": "2025-03-17T09:31:32.838211Z"
    },
    "papermill": {
     "duration": 0.012336,
     "end_time": "2025-03-17T09:31:32.841071",
     "exception": false,
     "start_time": "2025-03-17T09:31:32.828735",
     "status": "completed"
    },
    "tags": []
   },
   "outputs": [],
   "source": [
    "# # Total\n",
    "# summary_sum = regular_season_results_flatten.groupby(by=['Season', 'TeamID'], as_index=False) \\\n",
    "#                                             .sum()\n",
    "# # Mean\n",
    "# summary_mean = regular_season_results_flatten.groupby(by=['Season', 'TeamID'], as_index=False) \\\n",
    "#                                             .mean()\n",
    "\n",
    "\n",
    "# # FG%\n",
    "# summary_mean.columns\n",
    "\n",
    "# summary_mean['FG%'] = summary_mean.FGM / summary_mean.FGA\n",
    "# summary_mean['3P%'] = summary_mean.FGM3 / summary_mean.FGA3\n",
    "# summary_mean['FT%'] = summary_mean.FTM / summary_mean.FTA\n",
    "\n",
    "# summary_mean.rename(columns={'Result':'Win%'}, inplace=True)\n",
    "\n",
    "# summary_mean"
   ]
  },
  {
   "cell_type": "markdown",
   "id": "892ad0ca",
   "metadata": {
    "papermill": {
     "duration": 0.004638,
     "end_time": "2025-03-17T09:31:32.850743",
     "exception": false,
     "start_time": "2025-03-17T09:31:32.846105",
     "status": "completed"
    },
    "tags": []
   },
   "source": [
    "### 3-3. Scaling"
   ]
  },
  {
   "cell_type": "code",
   "execution_count": 5,
   "id": "87fad357",
   "metadata": {
    "execution": {
     "iopub.execute_input": "2025-03-17T09:31:32.861940Z",
     "iopub.status.busy": "2025-03-17T09:31:32.861603Z",
     "iopub.status.idle": "2025-03-17T09:31:32.865486Z",
     "shell.execute_reply": "2025-03-17T09:31:32.864559Z"
    },
    "papermill": {
     "duration": 0.011236,
     "end_time": "2025-03-17T09:31:32.867039",
     "exception": false,
     "start_time": "2025-03-17T09:31:32.855803",
     "status": "completed"
    },
    "tags": []
   },
   "outputs": [],
   "source": [
    "# from sklearn.preprocessing import MinMaxScaler\n",
    "\n",
    "# regular_season_results_by_team = regular_season_results_flatten.groupby(by=['Season', 'TeamID'],\n",
    "#                                                                         as_index=False) \\\n",
    "#                                                                .margin \\\n",
    "#                                                                .mean() \\\n",
    "#                                                                .sort_values(by='Season',\n",
    "#                                                                             ascending=False)\n",
    "# regular_season_results_by_team\n",
    "# \n",
    "# # Min-Max scaling\n",
    "# margin_min = regular_season_results_by_team.groupby('Season').margin.transform('min')\n",
    "# margin_max = regular_season_results_by_team.groupby('Season').margin.transform('max')\n",
    "\n",
    "# regular_season_results_by_team['margin_scale'] = (regular_season_results_by_team['margin'] - margin_min) / (margin_max - margin_min) \n",
    "\n",
    "# regular_season_results_by_team"
   ]
  },
  {
   "cell_type": "markdown",
   "id": "0eb31496",
   "metadata": {
    "papermill": {
     "duration": 0.004388,
     "end_time": "2025-03-17T09:31:32.876732",
     "exception": false,
     "start_time": "2025-03-17T09:31:32.872344",
     "status": "completed"
    },
    "tags": []
   },
   "source": [
    "## 4. Prediction"
   ]
  },
  {
   "cell_type": "code",
   "execution_count": 6,
   "id": "b464c157",
   "metadata": {
    "execution": {
     "iopub.execute_input": "2025-03-17T09:31:32.888344Z",
     "iopub.status.busy": "2025-03-17T09:31:32.887957Z",
     "iopub.status.idle": "2025-03-17T09:31:32.892414Z",
     "shell.execute_reply": "2025-03-17T09:31:32.891234Z"
    },
    "papermill": {
     "duration": 0.012508,
     "end_time": "2025-03-17T09:31:32.894223",
     "exception": false,
     "start_time": "2025-03-17T09:31:32.881715",
     "status": "completed"
    },
    "tags": []
   },
   "outputs": [],
   "source": [
    "# # Create train data X\n",
    "# df_X = pd.merge(left=summary_mean,\n",
    "#                          right=summary_mean, \n",
    "#                          how='left', on=['Season'])\n",
    "# df_X = df_X[df_X['TeamID_x'] < df_X['TeamID_y']]\n",
    "\n",
    "# # Labeling\n",
    "# # df_X['ID'] = df_X['Season'].astype(str) \\\n",
    "#            + '_' + df_X['TeamID_x'].astype(str) \\\n",
    "#            + '_' + df_X['TeamID_y'].astype(str)\n",
    "\n",
    "# df_X"
   ]
  },
  {
   "cell_type": "code",
   "execution_count": 7,
   "id": "1fd3fd38",
   "metadata": {
    "execution": {
     "iopub.execute_input": "2025-03-17T09:31:32.905037Z",
     "iopub.status.busy": "2025-03-17T09:31:32.904701Z",
     "iopub.status.idle": "2025-03-17T09:31:32.908676Z",
     "shell.execute_reply": "2025-03-17T09:31:32.907624Z"
    },
    "papermill": {
     "duration": 0.011453,
     "end_time": "2025-03-17T09:31:32.910670",
     "exception": false,
     "start_time": "2025-03-17T09:31:32.899217",
     "status": "completed"
    },
    "tags": []
   },
   "outputs": [],
   "source": [
    "# # Create Groundtruth data y\n",
    "# df_y = pd.read_csv(\"/kaggle/input/march-machine-learning-mania-2025/MNCAATourneyCompactResults.csv\")\n",
    "\n",
    "# # Ensure the smaller TeamID comes first\n",
    "# df_y[\"Team1\"] = df_y[[\"WTeamID\", \"LTeamID\"]].min(axis=1)\n",
    "# df_y[\"Team2\"] = df_y[[\"WTeamID\", \"LTeamID\"]].max(axis=1)\n",
    "\n",
    "# # Create the ID column in the format 'Season_Team1_Team2'\n",
    "# df_y[\"ID\"] = df_y[\"Season\"].astype(str) + \"_\" + y_true[\"Team1\"].astype(str) + \"_\" + y_true[\"Team2\"].astype(str)\n",
    "\n",
    "# # Compute the margin (score difference) and adjust if TeamIDs were swapped\n",
    "# df_y[\"Margin\"] = df_y.apply(lambda row: row[\"WScore\"] - row[\"LScore\"] if row[\"WTeamID\"] == row[\"Team1\"] else row[\"LScore\"] - row[\"WScore\"], axis=1)\n",
    "# df_y['W/L'] = (df_y['Margin'] > 0).astype(int)\n",
    "\n",
    "# df_y"
   ]
  },
  {
   "cell_type": "code",
   "execution_count": 8,
   "id": "09b43e0f",
   "metadata": {
    "execution": {
     "iopub.execute_input": "2025-03-17T09:31:32.922121Z",
     "iopub.status.busy": "2025-03-17T09:31:32.921801Z",
     "iopub.status.idle": "2025-03-17T09:31:32.925526Z",
     "shell.execute_reply": "2025-03-17T09:31:32.924504Z"
    },
    "papermill": {
     "duration": 0.011634,
     "end_time": "2025-03-17T09:31:32.927200",
     "exception": false,
     "start_time": "2025-03-17T09:31:32.915566",
     "status": "completed"
    },
    "tags": []
   },
   "outputs": [],
   "source": [
    "# # train data\n",
    "# df_train = pd.merge(left=df_y, right=df_X,\n",
    "#                     on='ID', how='inner')\n",
    "# df_final = df_train[['ID', 'Season_x', 'Margin', 'W/L',  \n",
    "#                      'TeamID_x', 'TeamID_y', \n",
    "#                      'Win%_x', 'margin_x', 'Score_x',\n",
    "#                      'Win%_y', 'margin_y', 'Score_y',\n",
    "#                      'FG%_x', '3P%_x', 'FT%_x', 'FG%_y', '3P%_y', 'FT%_y',\n",
    "#                      'FGM_x', 'FGA_x', 'FGM3_x', 'FGA3_x', 'FTM_x', 'FTA_x', 'OR_x', 'DR_x', 'Ast_x', 'TO_x', 'Stl_x', 'Blk_x', 'PF_x',\n",
    "#                      'FGM_y', 'FGA_y', 'FGM3_y', 'FGA3_y', 'FTM_y', 'FTA_y', 'OR_y', 'DR_y', 'Ast_y', 'TO_y', 'Stl_y', 'Blk_y', 'PF_y'\n",
    "#                     ]]\n",
    "# df_final.rename(columns={'Season_x':\"Season\"}, inplace=True)\n",
    "# df_final.sort_values(by='ID', inplace=True)\n",
    "# df_final"
   ]
  },
  {
   "cell_type": "markdown",
   "id": "769af6a7",
   "metadata": {
    "papermill": {
     "duration": 0.004385,
     "end_time": "2025-03-17T09:31:32.936390",
     "exception": false,
     "start_time": "2025-03-17T09:31:32.932005",
     "status": "completed"
    },
    "tags": []
   },
   "source": [
    "## 5. Validation"
   ]
  },
  {
   "cell_type": "markdown",
   "id": "aa13b54c",
   "metadata": {
    "papermill": {
     "duration": 0.004508,
     "end_time": "2025-03-17T09:31:32.945504",
     "exception": false,
     "start_time": "2025-03-17T09:31:32.940996",
     "status": "completed"
    },
    "tags": []
   },
   "source": [
    "### Build a Model"
   ]
  },
  {
   "cell_type": "code",
   "execution_count": 9,
   "id": "6438eea3",
   "metadata": {
    "execution": {
     "iopub.execute_input": "2025-03-17T09:31:32.956333Z",
     "iopub.status.busy": "2025-03-17T09:31:32.955966Z",
     "iopub.status.idle": "2025-03-17T09:31:32.960237Z",
     "shell.execute_reply": "2025-03-17T09:31:32.959001Z"
    },
    "papermill": {
     "duration": 0.011646,
     "end_time": "2025-03-17T09:31:32.962036",
     "exception": false,
     "start_time": "2025-03-17T09:31:32.950390",
     "status": "completed"
    },
    "tags": []
   },
   "outputs": [],
   "source": [
    "# import xgboost as xgb\n",
    "# import pandas as pd\n",
    "# from sklearn.metrics import brier_score_loss\n",
    "\n",
    "# # Define features and target\n",
    "# features = [col for col in df_final.columns if col not in [\"ID\", \"Season\", \"Margin\", \"W/L\"]]\n",
    "\n",
    "# # Splitting data into train and test sets based on Season\n",
    "# X_train = df_final[df_final.Season < 2024][features]\n",
    "# y_train = df_final[df_final.Season < 2024][\"W/L\"]\n",
    "# X_test = df_final[df_final.Season == 2024][features]\n",
    "# y_test = df_final[df_final.Season == 2024][\"W/L\"]\n",
    "\n",
    "# # Initialize and train XGBoost Classifier\n",
    "# xgb\n",
    "\n",
    "# xgb_classifier = xgb.XGBClassifier(objective='binary:logistic', \n",
    "#                                    n_estimators=1000, \n",
    "#                                    learning_rate=0.05, \n",
    "#                                    max_depth=10,\n",
    "#                                    random_state=42)\n",
    "# xgb_classifier.fit(X_train, y_train)\n",
    "\n",
    "# # Get probability predictions for Brier Score\n",
    "# y_pred_proba = xgb_classifier.predict_proba(X_test)[:, 1]\n",
    "\n",
    "# # Compute Brier Score Loss\n",
    "# brier_score = brier_score_loss(y_test, y_pred_proba)\n",
    "# print(f\"Brier Score Loss: {brier_score:.4f}\")"
   ]
  },
  {
   "cell_type": "markdown",
   "id": "c30a3227",
   "metadata": {
    "papermill": {
     "duration": 0.004491,
     "end_time": "2025-03-17T09:31:32.972363",
     "exception": false,
     "start_time": "2025-03-17T09:31:32.967872",
     "status": "completed"
    },
    "tags": []
   },
   "source": [
    "## 6. Women's Tournament"
   ]
  },
  {
   "cell_type": "markdown",
   "id": "e9a9d892",
   "metadata": {
    "papermill": {
     "duration": 0.004566,
     "end_time": "2025-03-17T09:31:32.981666",
     "exception": false,
     "start_time": "2025-03-17T09:31:32.977100",
     "status": "completed"
    },
    "tags": []
   },
   "source": [
    "## 7. Submission"
   ]
  },
  {
   "cell_type": "code",
   "execution_count": 10,
   "id": "dcad4a52",
   "metadata": {
    "execution": {
     "iopub.execute_input": "2025-03-17T09:31:32.993471Z",
     "iopub.status.busy": "2025-03-17T09:31:32.993095Z",
     "iopub.status.idle": "2025-03-17T09:32:12.610016Z",
     "shell.execute_reply": "2025-03-17T09:32:12.608813Z"
    },
    "papermill": {
     "duration": 39.6247,
     "end_time": "2025-03-17T09:32:12.611918",
     "exception": false,
     "start_time": "2025-03-17T09:31:32.987218",
     "status": "completed"
    },
    "tags": []
   },
   "outputs": [
    {
     "name": "stdout",
     "output_type": "stream",
     "text": [
      "Brier Score Loss: 0.2085\n",
      "Brier Score Loss: 0.1931\n",
      "Submission file created successfully.\n"
     ]
    }
   ],
   "source": [
    "import numpy as np\n",
    "import pandas as pd\n",
    "import xgboost as xgb\n",
    "from sklearn.metrics import brier_score_loss\n",
    "\n",
    "# Load Regular Season Results\n",
    "def load_regular_season_results(compact_results_url, detailed_results_url):\n",
    "    regular_season_results = pd.read_csv(compact_results_url)\n",
    "    regular_season_results['margin'] = regular_season_results['WScore'] - regular_season_results['LScore']\n",
    "    rs_detailed = pd.read_csv(detailed_results_url)\n",
    "    return pd.merge(regular_season_results, rs_detailed, on=['Season', 'DayNum', 'WTeamID', 'LTeamID', 'WScore', 'LScore', 'WLoc', 'NumOT'], how='inner')\n",
    "\n",
    "# Prepare Regular Season Data\n",
    "def prepare_regular_season_data(df):\n",
    "    W_columns = {'WTeamID': 'TeamID', 'WScore': 'Score', 'WLoc': 'Loc', 'WFGM': 'FGM', 'WFGA': 'FGA', 'WFGM3': 'FGM3', 'WFGA3': 'FGA3', 'WFTM': 'FTM', 'WFTA': 'FTA',\n",
    "                 'WOR': 'OR', 'WDR': 'DR', 'WAst': 'Ast', 'WTO': 'TO', 'WStl': 'Stl', 'WBlk': 'Blk', 'WPF': 'PF'}\n",
    "    L_columns = {'LTeamID': 'TeamID', 'LScore': 'Score', 'WLoc': 'Loc', 'LFGM': 'FGM', 'LFGA': 'FGA', 'LFGM3': 'FGM3', 'LFGA3': 'FGA3', 'LFTM': 'FTM', 'LFTA': 'FTA',\n",
    "                 'LOR': 'OR', 'LDR': 'DR', 'LAst': 'Ast', 'LTO': 'TO', 'LStl': 'Stl', 'LBlk': 'Blk', 'LPF': 'PF'}\n",
    "    \n",
    "    W_results = df[['Season', 'DayNum', 'margin'] + list(W_columns.keys())].rename(columns=W_columns)\n",
    "    L_results = df[['Season', 'DayNum', 'margin'] + list(L_columns.keys())].rename(columns=L_columns)\n",
    "    W_results['Result'], L_results['Result'] = 1, 0\n",
    "    L_results['margin'] = -L_results['margin']\n",
    "    \n",
    "    df_flatten = pd.concat([W_results, L_results], axis=0).drop('Loc', axis=1).reset_index(drop=True)\n",
    "    summary_mean = df_flatten.groupby(['Season', 'TeamID'], as_index=False).mean()\n",
    "    summary_mean['FG%'] = summary_mean['FGM'] / summary_mean['FGA']\n",
    "    summary_mean['3P%'] = summary_mean['FGM3'] / summary_mean['FGA3']\n",
    "    summary_mean['FT%'] = summary_mean['FTM'] / summary_mean['FTA']\n",
    "    summary_mean.rename(columns={'Result': 'Win%'}, inplace=True)\n",
    "    \n",
    "    # Self join to create a Cartesian product with TeamID ordering\n",
    "    df_cartesian = summary_mean.merge(summary_mean, on='Season', suffixes=('_x', '_y'))\n",
    "    df_cartesian = df_cartesian[df_cartesian['TeamID_x'] < df_cartesian['TeamID_y']]\n",
    "    \n",
    "    # Create ID variable\n",
    "    df_cartesian['ID'] = df_cartesian['Season'].astype(str) + \"_\" + df_cartesian['TeamID_x'].astype(str) + \"_\" + df_cartesian['TeamID_y'].astype(str)\n",
    "    \n",
    "    return df_cartesian\n",
    "\n",
    "# Load and Process NCAA Tournament Data\n",
    "def load_tournament_results(tournament_results_url):\n",
    "    df_y = pd.read_csv(tournament_results_url)\n",
    "    df_y[\"Team1\"] = df_y[[\"WTeamID\", \"LTeamID\"]].min(axis=1)\n",
    "    df_y[\"Team2\"] = df_y[[\"WTeamID\", \"LTeamID\"]].max(axis=1)\n",
    "    df_y[\"ID\"] = df_y[\"Season\"].astype(str) + \"_\" + df_y[\"Team1\"].astype(str) + \"_\" + df_y[\"Team2\"].astype(str)\n",
    "    df_y[\"Margin\"] = df_y.apply(lambda row: row[\"WScore\"] - row[\"LScore\"] if row[\"WTeamID\"] == row[\"Team1\"] else row[\"LScore\"] - row[\"WScore\"], axis=1)\n",
    "    df_y['W/L'] = (df_y['Margin'] > 0).astype(int)\n",
    "    return df_y\n",
    "\n",
    "# Merge Training Data\n",
    "def merge_training_data(df_X, df_y):\n",
    "    df_train = pd.merge(df_y, df_X, on='ID', how='inner')\n",
    "    df_final = df_train.rename(columns={'Season_x': \"Season\"}).sort_values(by='ID')\n",
    "    return df_final\n",
    "\n",
    "# Train and Evaluate Model\n",
    "def train_and_evaluate(df_final, features):\n",
    "    X_train, y_train = df_final[df_final.Season < 2024][features], df_final[df_final.Season < 2024][\"Margin\"]\n",
    "    X_test, y_test = df_final[df_final.Season == 2024][features], df_final[df_final.Season == 2024][\"W/L\"]\n",
    "    \n",
    "    model = xgb.XGBRegressor(objective='reg:squarederror', \n",
    "                             n_estimators=1000, \n",
    "                             learning_rate=0.05, \n",
    "                             max_depth=10, \n",
    "                             random_state=42)\n",
    "    model.fit(X_train, y_train)\n",
    "    \n",
    "    y_pred_margin = model.predict(X_test)\n",
    "    y_pred_proba = 1 / (1 + np.exp(-y_pred_margin / 10))  # Scaling factor can be tuned\n",
    "    \n",
    "    brier_score = brier_score_loss(y_test, y_pred_proba)\n",
    "    print(f\"Brier Score Loss: {brier_score:.4f}\")\n",
    "    \n",
    "    # Create prediction dataframe\n",
    "    model.fit(df_final[features], df_final['W/L'])\n",
    "    \n",
    "    df_prediction = df_final[df_final.Season == 2025][[\"ID\"]].copy()\n",
    "    df_prediction[\"Pred\"] = 1 / (1 + np.exp(-model.predict(df_final[df_final.Season == 2025][features]) / 10))\n",
    "    \n",
    "    return df_prediction\n",
    "\n",
    "# Define Features\n",
    "features = [\n",
    "    \"Win%_x\", \"margin_x\", \"Score_x\", \"FG%_x\", \"3P%_x\", \"FT%_x\", \"OR_x\", \"DR_x\", \"Ast_x\", \"TO_x\", \"Stl_x\", \"Blk_x\", \"PF_x\",\n",
    "    \"Win%_y\", \"margin_y\", \"Score_y\", \"FG%_y\", \"3P%_y\", \"FT%_y\", \"OR_y\", \"DR_y\", \"Ast_y\", \"TO_y\", \"Stl_y\", \"Blk_y\", \"PF_y\"\n",
    "]\n",
    "\n",
    "# Men's prediction\n",
    "compact_results_url = '/kaggle/input/march-machine-learning-mania-2025/MRegularSeasonCompactResults.csv'\n",
    "detailed_results_url = '/kaggle/input/march-machine-learning-mania-2025/MRegularSeasonDetailedResults.csv'\n",
    "tournament_results_url = '/kaggle/input/march-machine-learning-mania-2025/MNCAATourneyCompactResults.csv'\n",
    "\n",
    "df_season = load_regular_season_results(compact_results_url, detailed_results_url)\n",
    "df_summary = prepare_regular_season_data(df_season)\n",
    "df_tourney = load_tournament_results(tournament_results_url)\n",
    "df_final = merge_training_data(df_summary, df_tourney)\n",
    "df_prediction_men = train_and_evaluate(df_final, features)\n",
    "\n",
    "# Women's Prediction\n",
    "compact_results_url = '/kaggle/input/march-machine-learning-mania-2025/WRegularSeasonCompactResults.csv'\n",
    "detailed_results_url = '/kaggle/input/march-machine-learning-mania-2025/WRegularSeasonDetailedResults.csv'\n",
    "tournament_results_url = '/kaggle/input/march-machine-learning-mania-2025/WNCAATourneyCompactResults.csv'\n",
    "\n",
    "# Define URLs\n",
    "df_season = load_regular_season_results(compact_results_url, detailed_results_url)\n",
    "df_summary = prepare_regular_season_data(df_season)\n",
    "df_tourney = load_tournament_results(tournament_results_url)\n",
    "df_final = merge_training_data(df_summary, df_tourney)\n",
    "df_prediction_women = train_and_evaluate(df_final, features)\n",
    "\n",
    "# Create final submission file\n",
    "submission_df = pd.concat([\n",
    "    df_prediction_men,\n",
    "    df_prediction_women\n",
    "], axis=0).sort_values(by='ID')\n",
    "\n",
    "# Save submission file\n",
    "submission_df.to_csv(\"submission.csv\", index=False)\n",
    "print(\"Submission file created successfully.\")"
   ]
  },
  {
   "cell_type": "markdown",
   "id": "9f9a0472",
   "metadata": {
    "papermill": {
     "duration": 0.004721,
     "end_time": "2025-03-17T09:32:12.621648",
     "exception": false,
     "start_time": "2025-03-17T09:32:12.616927",
     "status": "completed"
    },
    "tags": []
   },
   "source": [
    "\n",
    "## References\n",
    "\n",
    "- [Simple starter notebook for March Mania 2025](https://www.kaggle.com/code/paultimothymooney/simple-starter-notebook-for-march-mania-2025)\n",
    "- [What is a Brier Score and How is it Calculated?](https://www.cultivatelabs.com/crowdsourced-forecasting-guide/what-is-a-brier-score-and-how-is-it-calculated)\n"
   ]
  }
 ],
 "metadata": {
  "kaggle": {
   "accelerator": "none",
   "dataSources": [
    {
     "databundleVersionId": 11320667,
     "sourceId": 91497,
     "sourceType": "competition"
    }
   ],
   "dockerImageVersionId": 30839,
   "isGpuEnabled": false,
   "isInternetEnabled": true,
   "language": "python",
   "sourceType": "notebook"
  },
  "kernelspec": {
   "display_name": "Python 3",
   "language": "python",
   "name": "python3"
  },
  "language_info": {
   "codemirror_mode": {
    "name": "ipython",
    "version": 3
   },
   "file_extension": ".py",
   "mimetype": "text/x-python",
   "name": "python",
   "nbconvert_exporter": "python",
   "pygments_lexer": "ipython3",
   "version": "3.10.12"
  },
  "papermill": {
   "default_parameters": {},
   "duration": 43.822376,
   "end_time": "2025-03-17T09:32:13.448483",
   "environment_variables": {},
   "exception": null,
   "input_path": "__notebook__.ipynb",
   "output_path": "__notebook__.ipynb",
   "parameters": {},
   "start_time": "2025-03-17T09:31:29.626107",
   "version": "2.6.0"
  }
 },
 "nbformat": 4,
 "nbformat_minor": 5
}
